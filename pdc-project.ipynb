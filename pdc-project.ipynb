{
 "cells": [
  {
   "cell_type": "markdown",
   "metadata": {},
   "source": [
    "# PDC project - Channel Model"
   ]
  },
  {
   "cell_type": "code",
   "execution_count": 1,
   "metadata": {},
   "outputs": [],
   "source": [
    "import numpy as np\n",
    "import bitarray\n",
    "import matplotlib.pyplot as plt"
   ]
  },
  {
   "cell_type": "markdown",
   "metadata": {},
   "source": [
    "## Serialization"
   ]
  },
  {
   "cell_type": "code",
   "execution_count": 2,
   "metadata": {},
   "outputs": [],
   "source": [
    "def string_to_bits(s):\n",
    "    ba = bitarray.bitarray()\n",
    "    ba.frombytes(s.encode('utf-8'))\n",
    "    nparray = np.array(list(ba))\n",
    "    return np.where(nparray == 0, -1, nparray)"
   ]
  },
  {
   "cell_type": "code",
   "execution_count": 3,
   "metadata": {},
   "outputs": [],
   "source": [
    "def bits_to_string(bs):\n",
    "    return bitarray.bitarray(list(np.where(bs == -1, 0, bs))).tobytes().decode('utf-8')"
   ]
  },
  {
   "cell_type": "markdown",
   "metadata": {},
   "source": [
    "## Convolutional Encoding"
   ]
  },
  {
   "cell_type": "markdown",
   "metadata": {},
   "source": [
    "### Convolutional Encoder"
   ]
  },
  {
   "cell_type": "code",
   "execution_count": 4,
   "metadata": {},
   "outputs": [],
   "source": [
    "def convolutional_encoder(bs):\n",
    "    bs = np.append([1, 1], bs)\n",
    "    bs = np.append(bs, [1,1])\n",
    "    codewords = []\n",
    "    \n",
    "    for i in range(2, len(bs)):\n",
    "        codewords.append(bs[i]*bs[i-2])\n",
    "        codewords.append(bs[i]*bs[i-1]*bs[i-2])\n",
    "        \n",
    "    return np.array(codewords)"
   ]
  },
  {
   "cell_type": "code",
   "execution_count": 5,
   "metadata": {},
   "outputs": [],
   "source": [
    "def encoder(bs, repeat):\n",
    "    if repeat % 3 != 0 and repeat != 1:\n",
    "        raise Exception('repeat arg. has to be a multiple of 3 or 1.')\n",
    "    codewords = convolutional_encoder(bs)\n",
    "    return np.repeat(codewords, repeat)"
   ]
  },
  {
   "cell_type": "markdown",
   "metadata": {},
   "source": [
    "### Erasure Detection"
   ]
  },
  {
   "cell_type": "code",
   "execution_count": 6,
   "metadata": {},
   "outputs": [],
   "source": [
    "def detect_erasure(dec_ys):\n",
    "    bins = np.sum(np.abs(dec_ys), axis=1)\n",
    "    mods = []\n",
    "    for i in range(3):\n",
    "        mods.append(np.sum(bins[i::3]))\n",
    "    return np.argmin(mods)"
   ]
  },
  {
   "cell_type": "code",
   "execution_count": 7,
   "metadata": {},
   "outputs": [],
   "source": [
    "def remove_erasures(ys, repeat):\n",
    "    dec_ys = [ys[i::repeat] for i in range(repeat)]\n",
    "    mod = detect_erasure(dec_ys)\n",
    "    return [dec_ys[i] for i in range(repeat) if i % 3 != mod]"
   ]
  },
  {
   "cell_type": "markdown",
   "metadata": {},
   "source": [
    "### Convolutional Decoder"
   ]
  },
  {
   "cell_type": "code",
   "execution_count": 8,
   "metadata": {},
   "outputs": [],
   "source": [
    "def to_dec(alpha):\n",
    "    return int(str(alpha[0]) + str(alpha[1]), 2)"
   ]
  },
  {
   "cell_type": "code",
   "execution_count": 9,
   "metadata": {},
   "outputs": [],
   "source": [
    "def convolutional_decoder(ys):\n",
    "    \n",
    "    maxj = len(ys)//2 + 1\n",
    "    alphas = [set() for _ in range(maxj)]\n",
    "    alphas[0] = {(1,1)}\n",
    "    \n",
    "    transitions = {\n",
    "        \n",
    "        (0,0): {\n",
    "            (0,0): {\n",
    "                'bit': -1,\n",
    "                'cw': (1,-1)\n",
    "            },\n",
    "            (1,0): {\n",
    "                'bit': 1,\n",
    "                'cw': (-1,1)\n",
    "            }\n",
    "        },\n",
    "        \n",
    "        (0,1): {\n",
    "            (0,0): {\n",
    "                'bit': -1,\n",
    "                'cw': (-1,1)\n",
    "            },\n",
    "            (1,0): {\n",
    "                'bit': 1,\n",
    "                'cw': (1,-1)\n",
    "            }\n",
    "        },\n",
    "        \n",
    "        (1,0): {\n",
    "            (0,1): {\n",
    "                'bit': -1,\n",
    "                'cw': (1,1)\n",
    "            },\n",
    "            (1,1): {\n",
    "                'bit': 1,\n",
    "                'cw': (-1,-1)\n",
    "            }\n",
    "        },\n",
    "        \n",
    "        (1,1): {\n",
    "            (0,1): {\n",
    "                'bit': -1,\n",
    "                'cw': (-1,-1)\n",
    "            },\n",
    "            (1,1): {\n",
    "                'bit': 1,\n",
    "                'cw': (1,1)\n",
    "            }\n",
    "        }\n",
    "    }\n",
    "    \n",
    "    paths = [[list() for _ in range(4)] for _ in range(maxj)]\n",
    "    paths_cost = [[-np.inf for _ in range(4)] for _ in range(maxj)]\n",
    "    paths_cost[0][to_dec((1,1))] = 0 \n",
    "    \n",
    "    for j in range(1, maxj):        \n",
    "        for alpha in alphas[j-1]:\n",
    "            for beta in [(0, alpha[0]), (1, alpha[0])]:\n",
    "                \n",
    "                x = transitions[alpha][beta]['cw']\n",
    "                \n",
    "                edge_cost = x[0]*ys[2*j-1-1] + x[1]*ys[2*j-1]\n",
    "                subpath_cost = paths_cost[j-1][to_dec(alpha)]\n",
    "                cost = edge_cost + subpath_cost\n",
    "                \n",
    "                alphas[j].add(beta)\n",
    "                \n",
    "                if cost > paths_cost[j][to_dec(beta)]:\n",
    "                    paths_cost[j][to_dec(beta)] = cost\n",
    "                    paths[j][to_dec(beta)] = paths[j-1][to_dec(alpha)] + [transitions[alpha][beta]['bit']]\n",
    "                \n",
    "    return paths[maxj-1][to_dec((1,1))][:-2]"
   ]
  },
  {
   "cell_type": "code",
   "execution_count": 10,
   "metadata": {},
   "outputs": [],
   "source": [
    "def decoder_old(ys, repeat):\n",
    "    if repeat % 3 != 0 and repeat != 1:\n",
    "        raise Exception('repeat arg. has to be a multiple of 3 or 1.')\n",
    "    \n",
    "    yss = remove_erasures(ys, repeat)\n",
    "    dec = []\n",
    "    res = []\n",
    "    \n",
    "    for ys in yss:\n",
    "        dec.append(convolutional_decoder(ys))\n",
    "    \n",
    "    for bitvotes in np.transpose(dec):\n",
    "        bins = np.bincount(np.where(bitvotes == -1, 0, bitvotes))\n",
    "        bit = np.argmax(bins)\n",
    "        bit = bit if bit == 1 else -1\n",
    "        res.append(int(bit))\n",
    "\n",
    "    return dec[0]"
   ]
  },
  {
   "cell_type": "code",
   "execution_count": 11,
   "metadata": {},
   "outputs": [],
   "source": [
    "def decoder(ys, repeat):\n",
    "    if repeat % 3 != 0 and repeat != 1:\n",
    "        raise Exception('repeat arg. has to be a multiple of 3 or 1.')\n",
    "    \n",
    "    yss = remove_erasures(ys, repeat)\n",
    "    ys = np.sum(yss, axis=0)\n",
    "\n",
    "    return convolutional_decoder(ys)"
   ]
  },
  {
   "cell_type": "markdown",
   "metadata": {},
   "source": [
    "## Server Pipeline"
   ]
  },
  {
   "cell_type": "code",
   "execution_count": 12,
   "metadata": {},
   "outputs": [],
   "source": [
    "def encode(filename, repeat):\n",
    "    file = open(filename, 'r')\n",
    "    data = file.read()\n",
    "    file.close()\n",
    "    \n",
    "    bits = string_to_bits(data)\n",
    "    xs = encoder(bits, 3)\n",
    "    np.savetxt(filename[:-4] + '-encoded.txt', xs)\n",
    "    \n",
    "    return bits"
   ]
  },
  {
   "cell_type": "code",
   "execution_count": 13,
   "metadata": {},
   "outputs": [],
   "source": [
    "def decode(filename, repeat):\n",
    "    ys = np.loadtxt(filename)\n",
    "    bits = decoder(ys, repeat)\n",
    "    #data = bits_to_string(np.array(bits))\n",
    "    \n",
    "    file = open(filename[:-4] + '-decoded.txt', 'w')\n",
    "    file.write(data)\n",
    "    file.close()\n",
    "    \n",
    "    return bits"
   ]
  },
  {
   "cell_type": "markdown",
   "metadata": {},
   "source": [
    "## Channel Models"
   ]
  },
  {
   "cell_type": "code",
   "execution_count": 14,
   "metadata": {},
   "outputs": [],
   "source": [
    "def silent_channel(chanInput):\n",
    "    chanInput = np.clip(chanInput,-1,1)\n",
    "    erasedIndex = np.random.randint(3)\n",
    "    chanInput[erasedIndex:len(chanInput):3] = 0\n",
    "    return chanInput, erasedIndex"
   ]
  },
  {
   "cell_type": "code",
   "execution_count": 15,
   "metadata": {},
   "outputs": [],
   "source": [
    "def noisy_channel(chanInput, var = 10):\n",
    "    chanInput = np.clip(chanInput,-1,1)\n",
    "    erasedIndex = np.random.randint(3)\n",
    "    chanInput[erasedIndex:len(chanInput):3] = 0\n",
    "    return chanInput + np.sqrt(var)*np.random.randn(len(chanInput)), erasedIndex"
   ]
  },
  {
   "cell_type": "code",
   "execution_count": 16,
   "metadata": {},
   "outputs": [],
   "source": [
    "def noisy_soft_channel(chanInput, var = 10):\n",
    "    return chanInput + np.sqrt(var)*np.random.randn(len(chanInput))"
   ]
  },
  {
   "cell_type": "markdown",
   "metadata": {},
   "source": [
    "---\n",
    "# Test section"
   ]
  },
  {
   "cell_type": "markdown",
   "metadata": {},
   "source": [
    "## Serialization"
   ]
  },
  {
   "cell_type": "code",
   "execution_count": 17,
   "metadata": {},
   "outputs": [],
   "source": [
    "data = open('files/input.txt', 'r').read()"
   ]
  },
  {
   "cell_type": "code",
   "execution_count": 18,
   "metadata": {},
   "outputs": [
    {
     "data": {
      "text/plain": [
       "\"Ceci est un test. Je m'appelle Antoine et j'écris des accents pour faire des tests.\\n😀\\n\""
      ]
     },
     "execution_count": 18,
     "metadata": {},
     "output_type": "execute_result"
    }
   ],
   "source": [
    "bits_to_string(string_to_bits(data))"
   ]
  },
  {
   "cell_type": "markdown",
   "metadata": {},
   "source": [
    "## Erasure detection"
   ]
  },
  {
   "cell_type": "code",
   "execution_count": 19,
   "metadata": {},
   "outputs": [],
   "source": [
    "data = open('files/input.txt', 'r').read()\n",
    "bits = string_to_bits(data)"
   ]
  },
  {
   "cell_type": "code",
   "execution_count": 20,
   "metadata": {},
   "outputs": [],
   "source": [
    "def detect_erasure_test(channel, repeats = 30, iters = 100):\n",
    "    errors = {}\n",
    "    logs = {}\n",
    "    \n",
    "    for rep in range(3, repeats, 3):\n",
    "        xs = np.repeat(bits, rep)\n",
    "\n",
    "        loc_err = 0\n",
    "        loc_logs = {}\n",
    "\n",
    "        for i in range(iters):\n",
    "            xsi, ei = channel(xs)\n",
    "            dec_xsi = [xsi[i::rep] for i in range(rep)]\n",
    "            mod = detect_erasure(dec_xsi)\n",
    "            if ei != mod:\n",
    "                loc_err += 1\n",
    "                loc_logs[i] = {\n",
    "                    'xs': xsi,\n",
    "                    'dec_xs': dec_xsi,\n",
    "                    'ei': ei,\n",
    "                    'mod': mod\n",
    "                }\n",
    "\n",
    "        errors[rep] = loc_err\n",
    "        logs[rep] = loc_logs\n",
    "    \n",
    "    return errors, logs"
   ]
  },
  {
   "cell_type": "markdown",
   "metadata": {},
   "source": [
    "### Over silent channel"
   ]
  },
  {
   "cell_type": "code",
   "execution_count": 21,
   "metadata": {},
   "outputs": [],
   "source": [
    "errors, _ = detect_erasure_test(silent_channel, 15, 100)"
   ]
  },
  {
   "cell_type": "code",
   "execution_count": 22,
   "metadata": {},
   "outputs": [
    {
     "data": {
      "image/png": "[encoded data removed]",
      "text/plain": [
       "<Figure size 432x288 with 1 Axes>"
      ]
     },
     "metadata": {
      "needs_background": "light"
     },
     "output_type": "display_data"
    }
   ],
   "source": [
    "plt.plot(list(errors.keys()), list(errors.values()))\n",
    "plt.xlabel('Symbols duplication factor')\n",
    "plt.ylabel(f'Errors % out of {100} tries')\n",
    "plt.show()"
   ]
  },
  {
   "cell_type": "markdown",
   "metadata": {},
   "source": [
    "### Over noisy channel"
   ]
  },
  {
   "cell_type": "code",
   "execution_count": 23,
   "metadata": {},
   "outputs": [],
   "source": [
    "repeats, iters = 60, 300\n",
    "errors, logs = detect_erasure_test(noisy_channel, repeats, iters)"
   ]
  },
  {
   "cell_type": "code",
   "execution_count": 24,
   "metadata": {},
   "outputs": [
    {
     "data": {
      "image/png": "[encoded data removed]",
      "text/plain": [
       "<Figure size 432x288 with 1 Axes>"
      ]
     },
     "metadata": {
      "needs_background": "light"
     },
     "output_type": "display_data"
    }
   ],
   "source": [
    "plt.plot(list(errors.keys()), np.array(list(errors.values()))/iters)\n",
    "plt.xlabel('Symbols duplication factor')\n",
    "plt.ylabel(f'Errors % out of {iters} tries')\n",
    "plt.show()"
   ]
  },
  {
   "cell_type": "markdown",
   "metadata": {},
   "source": [
    "## Convolutional Encoding\n"
   ]
  },
  {
   "cell_type": "code",
   "execution_count": 25,
   "metadata": {},
   "outputs": [
    {
     "name": "stdout",
     "output_type": "stream",
     "text": [
      "[1, 1, 1, 1, -1]\n"
     ]
    }
   ],
   "source": [
    "ys_book = [1,3,-2,1,4,-1,5,5,-3,-3,1,-6,2,-4]\n",
    "res_book = convolutional_decoder(ys_book)\n",
    "print(res_book)"
   ]
  },
  {
   "cell_type": "code",
   "execution_count": 26,
   "metadata": {},
   "outputs": [
    {
     "name": "stdout",
     "output_type": "stream",
     "text": [
      "[1, 1, -1, 1]\n"
     ]
    }
   ],
   "source": [
    "xs_test = encoder([1,1,-1,1], 1)\n",
    "res_test = convolutional_decoder(xs_test)\n",
    "print(res_test)"
   ]
  },
  {
   "cell_type": "code",
   "execution_count": 27,
   "metadata": {},
   "outputs": [
    {
     "name": "stdout",
     "output_type": "stream",
     "text": [
      "True\n"
     ]
    }
   ],
   "source": [
    "xs_test_1 = [1,1,-1,1,1,-1,-1,1,1,-1,1,1,-1]\n",
    "xs_test_2 = [1,1,1,-1,-1,1,1,-1,1,1,-1,1,1,-1,-1,-1,1,-1,1]\n",
    "res_test_1 = convolutional_decoder(encoder(xs_test_1,1))\n",
    "res_test_2 = convolutional_decoder(encoder(xs_test_2,1))\n",
    "print(xs_test_1 == res_test_1 and xs_test_2 == res_test_2)"
   ]
  },
  {
   "cell_type": "markdown",
   "metadata": {},
   "source": [
    "## Convolutional Encoding Pipeline"
   ]
  },
  {
   "cell_type": "code",
   "execution_count": 28,
   "metadata": {},
   "outputs": [],
   "source": [
    "hey = \"Hey. J'écris des accents pour faire des tests et j'aime la pêche. Bonsoir. 😀\""
   ]
  },
  {
   "cell_type": "code",
   "execution_count": 29,
   "metadata": {},
   "outputs": [
    {
     "name": "stdout",
     "output_type": "stream",
     "text": [
      "Block usage: 50700 (0.845)\n"
     ]
    },
    {
     "data": {
      "text/plain": [
       "\"Hey. J'écris des accents pour faire des tests et j'aime la pêche. Bonsoir. 😀\""
      ]
     },
     "execution_count": 29,
     "metadata": {},
     "output_type": "execute_result"
    }
   ],
   "source": [
    "rep = 39\n",
    "bts = string_to_bits(hey)\n",
    "enc = encoder(bts, rep)\n",
    "out = noisy_channel(enc, 10)[0]\n",
    "res = decoder(out, rep)\n",
    "print(f'Block usage: {len(enc)} ({len(enc) / 60000})')\n",
    "bits_to_string(np.array(res))"
   ]
  },
  {
   "cell_type": "markdown",
   "metadata": {},
   "source": [
    "### Statistics"
   ]
  },
  {
   "cell_type": "code",
   "execution_count": 37,
   "metadata": {},
   "outputs": [
    {
     "name": "stdout",
     "output_type": "stream",
     "text": [
      "45\r"
     ]
    }
   ],
   "source": [
    "log = {}\n",
    "bts = string_to_bits(hey)\n",
    "\n",
    "for rep in range(3, 48, 3):\n",
    "    print(rep, end='\\r')\n",
    "    log[rep] = {}\n",
    "    for i in range(50):\n",
    "        enc = encoder(bts, rep)\n",
    "        out = noisy_channel(enc, 10)[0]\n",
    "        dec = decoder(out, rep)\n",
    "        \n",
    "        try:\n",
    "            res =  bits_to_string(np.array(dec))\n",
    "        except UnicodeDecodeError as err:\n",
    "            res = 'error'\n",
    "        \n",
    "        log[rep][i] = {\n",
    "            'usage': len(enc),\n",
    "            'percent': len(enc) / 60000,\n",
    "            'string': res,\n",
    "            'bin-acc': 1 if res == hey else 0\n",
    "        }"
   ]
  },
  {
   "cell_type": "code",
   "execution_count": 38,
   "metadata": {},
   "outputs": [
    {
     "data": {
      "text/plain": [
       "{0: {'usage': 3900, 'percent': 0.065, 'string': 'error', 'bin-acc': 0},\n",
       " 1: {'usage': 3900, 'percent': 0.065, 'string': 'error', 'bin-acc': 0},\n",
       " 2: {'usage': 3900, 'percent': 0.065, 'string': 'error', 'bin-acc': 0},\n",
       " 3: {'usage': 3900, 'percent': 0.065, 'string': 'error', 'bin-acc': 0},\n",
       " 4: {'usage': 3900, 'percent': 0.065, 'string': 'error', 'bin-acc': 0},\n",
       " 5: {'usage': 3900, 'percent': 0.065, 'string': 'error', 'bin-acc': 0},\n",
       " 6: {'usage': 3900, 'percent': 0.065, 'string': 'error', 'bin-acc': 0},\n",
       " 7: {'usage': 3900, 'percent': 0.065, 'string': 'error', 'bin-acc': 0},\n",
       " 8: {'usage': 3900, 'percent': 0.065, 'string': 'error', 'bin-acc': 0},\n",
       " 9: {'usage': 3900, 'percent': 0.065, 'string': 'error', 'bin-acc': 0},\n",
       " 10: {'usage': 3900, 'percent': 0.065, 'string': 'error', 'bin-acc': 0},\n",
       " 11: {'usage': 3900, 'percent': 0.065, 'string': 'error', 'bin-acc': 0},\n",
       " 12: {'usage': 3900, 'percent': 0.065, 'string': 'error', 'bin-acc': 0},\n",
       " 13: {'usage': 3900, 'percent': 0.065, 'string': 'error', 'bin-acc': 0},\n",
       " 14: {'usage': 3900, 'percent': 0.065, 'string': 'error', 'bin-acc': 0},\n",
       " 15: {'usage': 3900, 'percent': 0.065, 'string': 'error', 'bin-acc': 0},\n",
       " 16: {'usage': 3900, 'percent': 0.065, 'string': 'error', 'bin-acc': 0},\n",
       " 17: {'usage': 3900, 'percent': 0.065, 'string': 'error', 'bin-acc': 0},\n",
       " 18: {'usage': 3900, 'percent': 0.065, 'string': 'error', 'bin-acc': 0},\n",
       " 19: {'usage': 3900, 'percent': 0.065, 'string': 'error', 'bin-acc': 0},\n",
       " 20: {'usage': 3900, 'percent': 0.065, 'string': 'error', 'bin-acc': 0},\n",
       " 21: {'usage': 3900, 'percent': 0.065, 'string': 'error', 'bin-acc': 0},\n",
       " 22: {'usage': 3900, 'percent': 0.065, 'string': 'error', 'bin-acc': 0},\n",
       " 23: {'usage': 3900, 'percent': 0.065, 'string': 'error', 'bin-acc': 0},\n",
       " 24: {'usage': 3900, 'percent': 0.065, 'string': 'error', 'bin-acc': 0},\n",
       " 25: {'usage': 3900, 'percent': 0.065, 'string': 'error', 'bin-acc': 0},\n",
       " 26: {'usage': 3900, 'percent': 0.065, 'string': 'error', 'bin-acc': 0},\n",
       " 27: {'usage': 3900, 'percent': 0.065, 'string': 'error', 'bin-acc': 0},\n",
       " 28: {'usage': 3900, 'percent': 0.065, 'string': 'error', 'bin-acc': 0},\n",
       " 29: {'usage': 3900, 'percent': 0.065, 'string': 'error', 'bin-acc': 0},\n",
       " 30: {'usage': 3900, 'percent': 0.065, 'string': 'error', 'bin-acc': 0},\n",
       " 31: {'usage': 3900, 'percent': 0.065, 'string': 'error', 'bin-acc': 0},\n",
       " 32: {'usage': 3900, 'percent': 0.065, 'string': 'error', 'bin-acc': 0},\n",
       " 33: {'usage': 3900, 'percent': 0.065, 'string': 'error', 'bin-acc': 0},\n",
       " 34: {'usage': 3900, 'percent': 0.065, 'string': 'error', 'bin-acc': 0},\n",
       " 35: {'usage': 3900, 'percent': 0.065, 'string': 'error', 'bin-acc': 0},\n",
       " 36: {'usage': 3900, 'percent': 0.065, 'string': 'error', 'bin-acc': 0},\n",
       " 37: {'usage': 3900, 'percent': 0.065, 'string': 'error', 'bin-acc': 0},\n",
       " 38: {'usage': 3900, 'percent': 0.065, 'string': 'error', 'bin-acc': 0},\n",
       " 39: {'usage': 3900, 'percent': 0.065, 'string': 'error', 'bin-acc': 0},\n",
       " 40: {'usage': 3900, 'percent': 0.065, 'string': 'error', 'bin-acc': 0},\n",
       " 41: {'usage': 3900, 'percent': 0.065, 'string': 'error', 'bin-acc': 0},\n",
       " 42: {'usage': 3900, 'percent': 0.065, 'string': 'error', 'bin-acc': 0},\n",
       " 43: {'usage': 3900, 'percent': 0.065, 'string': 'error', 'bin-acc': 0},\n",
       " 44: {'usage': 3900, 'percent': 0.065, 'string': 'error', 'bin-acc': 0},\n",
       " 45: {'usage': 3900, 'percent': 0.065, 'string': 'error', 'bin-acc': 0},\n",
       " 46: {'usage': 3900, 'percent': 0.065, 'string': 'error', 'bin-acc': 0},\n",
       " 47: {'usage': 3900, 'percent': 0.065, 'string': 'error', 'bin-acc': 0},\n",
       " 48: {'usage': 3900, 'percent': 0.065, 'string': 'error', 'bin-acc': 0},\n",
       " 49: {'usage': 3900, 'percent': 0.065, 'string': 'error', 'bin-acc': 0}}"
      ]
     },
     "execution_count": 38,
     "metadata": {},
     "output_type": "execute_result"
    }
   ],
   "source": [
    "log[3]"
   ]
  },
  {
   "cell_type": "code",
   "execution_count": 45,
   "metadata": {},
   "outputs": [],
   "source": [
    "acc = 0\n",
    "errs = {}\n",
    "for i in range(50):\n",
    "    acc += log[45][i]['bin-acc']\n",
    "    if log[45][i]['bin-acc'] != 1:\n",
    "        errs[i] = log[39][i]['string']"
   ]
  },
  {
   "cell_type": "code",
   "execution_count": 46,
   "metadata": {},
   "outputs": [
    {
     "data": {
      "text/plain": [
       "0.9"
      ]
     },
     "execution_count": 46,
     "metadata": {},
     "output_type": "execute_result"
    }
   ],
   "source": [
    "acc / 50"
   ]
  },
  {
   "cell_type": "code",
   "execution_count": 47,
   "metadata": {},
   "outputs": [
    {
     "name": "stdout",
     "output_type": "stream",
     "text": [
      "Chance to fail: 0.009999999999999995\n"
     ]
    }
   ],
   "source": [
    "print(f'Chance to fail: {(1-(acc / 50))**2}')"
   ]
  },
  {
   "cell_type": "code",
   "execution_count": 51,
   "metadata": {},
   "outputs": [
    {
     "data": {
      "text/plain": [
       "58500"
      ]
     },
     "execution_count": 51,
     "metadata": {},
     "output_type": "execute_result"
    }
   ],
   "source": [
    "log[45][0]['usage']"
   ]
  },
  {
   "cell_type": "code",
   "execution_count": 54,
   "metadata": {},
   "outputs": [
    {
     "data": {
      "text/plain": [
       "True"
      ]
     },
     "execution_count": 54,
     "metadata": {},
     "output_type": "execute_result"
    }
   ],
   "source": [
    "hey == errs[18]"
   ]
  },
  {
   "cell_type": "code",
   "execution_count": 49,
   "metadata": {},
   "outputs": [
    {
     "data": {
      "text/plain": [
       "{1: \"Hey. J'écris des Accents pour faire des tests et j'aime la pêche. Bonsoir. 😀\",\n",
       " 18: \"Hey. J'écris des accents pour faire des tests et j'aime la pêche. Bonsoir. 😀\",\n",
       " 19: \"Hey. J'écris des accents pour faire des tests et j'aime la pêche. Bonsoir. 😀\",\n",
       " 24: \"Hey. J'écris dds accents pour faire des tests et j'aime la pêche. Bonsoir. 😀\",\n",
       " 34: \"Hey. J'écris des accents pour faire des tests et j'aime la pêche. Bonsoir. 😀\"}"
      ]
     },
     "execution_count": 49,
     "metadata": {},
     "output_type": "execute_result"
    }
   ],
   "source": [
    "errs"
   ]
  },
  {
   "cell_type": "markdown",
   "metadata": {},
   "source": [
    "## Server Pipeline"
   ]
  },
  {
   "cell_type": "markdown",
   "metadata": {},
   "source": [
    "---\n",
    "# *TODO*"
   ]
  },
  {
   "cell_type": "markdown",
   "metadata": {},
   "source": [
    "- Finir conv. decoder ***DONE***\n",
    "- Se poser sur le système de votes ***DONE***\n",
    "- Find optimal *repeat* parameter ***DONE***\n",
    "\n",
    "\n",
    "- Pipeline server (easy) ***DONE***\n",
    "- Tester pipeline server ***DONE***\n",
    "\n",
    "\n",
    "- Faire des vrais tests avec zero noise ***DONE***\n",
    "- Faire des vrais tests avec peu noise local\n",
    "- Faire des vrais tests avec real noise local"
   ]
  }
 ],
 "metadata": {
  "kernelspec": {
   "display_name": "Python 3",
   "language": "python",
   "name": "python3"
  },
  "language_info": {
   "codemirror_mode": {
    "name": "ipython",
    "version": 3
   },
   "file_extension": ".py",
   "mimetype": "text/x-python",
   "name": "python",
   "nbconvert_exporter": "python",
   "pygments_lexer": "ipython3",
   "version": "3.8.5"
  }
 },
 "nbformat": 4,
 "nbformat_minor": 4
}
