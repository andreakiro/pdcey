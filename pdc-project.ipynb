{
 "cells": [
  {
   "cell_type": "markdown",
   "metadata": {},
   "source": [
    "# PDC project - Channel Model"
   ]
  },
  {
   "cell_type": "code",
   "execution_count": 1,
   "metadata": {},
   "outputs": [],
   "source": [
    "import numpy as np\n",
    "import bitarray\n",
    "import matplotlib.pyplot as plt"
   ]
  },
  {
   "cell_type": "markdown",
   "metadata": {},
   "source": [
    "## Serialization"
   ]
  },
  {
   "cell_type": "code",
   "execution_count": 2,
   "metadata": {},
   "outputs": [],
   "source": [
    "def string_to_bits(s):\n",
    "    ba = bitarray.bitarray()\n",
    "    ba.frombytes(data.encode('utf-8'))\n",
    "    nparray = np.array(list(ba))\n",
    "    return np.where(nparray == 0, -1, nparray)"
   ]
  },
  {
   "cell_type": "code",
   "execution_count": 3,
   "metadata": {},
   "outputs": [],
   "source": [
    "def bits_to_string(bs):\n",
    "    return bitarray.bitarray(list(np.where(bs == -1, 0, bs))).tobytes().decode('utf-8')"
   ]
  },
  {
   "cell_type": "markdown",
   "metadata": {},
   "source": [
    "## Convolutional Encoding"
   ]
  },
  {
   "cell_type": "markdown",
   "metadata": {},
   "source": [
    "### Convolutional Encoder"
   ]
  },
  {
   "cell_type": "code",
   "execution_count": 4,
   "metadata": {},
   "outputs": [],
   "source": [
    "def convolutional_encoder(bs):\n",
    "    bs = np.append([1, 1], bs)\n",
    "    codewords = []\n",
    "    \n",
    "    for i in range(2, len(bs)):\n",
    "        codewords.append(bs[i]*bs[i-2])\n",
    "        codewords.append(bs[i]*bs[i-1]*bs[i-2])\n",
    "        \n",
    "    return np.array(codewords)"
   ]
  },
  {
   "cell_type": "code",
   "execution_count": 5,
   "metadata": {},
   "outputs": [],
   "source": [
    "def encoder(bs, repeat):\n",
    "    if repeat % 3 != 0:\n",
    "        raise Exception('repeat arg. has to be a multiple of 3.')\n",
    "    codewords = convolutional_encoder(bs)\n",
    "    return np.repeat(codewords, repeat)"
   ]
  },
  {
   "cell_type": "markdown",
   "metadata": {},
   "source": [
    "### Erasure Detection"
   ]
  },
  {
   "cell_type": "code",
   "execution_count": 6,
   "metadata": {},
   "outputs": [],
   "source": [
    "def detect_erasure(dec_ys):\n",
    "    bins = np.sum(np.abs(dec_ys), axis=1)\n",
    "    mods = []\n",
    "    for i in range(3):\n",
    "        mods.append(np.sum(bins[i::3]))\n",
    "    return np.argmin(mods)"
   ]
  },
  {
   "cell_type": "code",
   "execution_count": 7,
   "metadata": {},
   "outputs": [],
   "source": [
    "def remove_erasures(ys, repeat):\n",
    "    dec_ys = [ys[i::repeat] for i in range(repeat)]\n",
    "    mod = detect_erasure(dec_ys)\n",
    "    return [dec_ys[i] for i in range(repeat) if i % 3 != mod]"
   ]
  },
  {
   "cell_type": "markdown",
   "metadata": {},
   "source": [
    "### Convolutional Decoder"
   ]
  },
  {
   "cell_type": "code",
   "execution_count": 8,
   "metadata": {},
   "outputs": [],
   "source": [
    "def to_dec(alpha):\n",
    "    return int(str(alpha[0])+str(alpha[1]), 2)"
   ]
  },
  {
   "cell_type": "code",
   "execution_count": 9,
   "metadata": {},
   "outputs": [],
   "source": [
    "def convolutional_decoder(ys, maxj):\n",
    "    B_matrix = [[list() for _ in range(4)] for _ in range(maxj)]\n",
    "    mu_matrix = np.ones((maxj, 2, 2)) * -np.inf\n",
    "    mu_matrix[0, 1, 1] = 0\n",
    "    \n",
    "    for j in range(1, maxj):\n",
    "        max_cost = -np.inf\n",
    "        max_beta = None\n",
    "        for alpha in [(0,0), (0,1), (1,0), (1,1)]:\n",
    "            for beta in [(0,0), (0,1), (1,0), (1,1)]:\n",
    "                edge_cost = 0 ## TODO ##\n",
    "                subpath_cost = mu_matrix[j-1][beta]\n",
    "                cost = edge_cost + subpath_cost\n",
    "                if (cost > max_cost):\n",
    "                    max_cost = cost\n",
    "                    max_beta = beta\n",
    "            mu_matrix[j][alpha] = max_cost\n",
    "            B_matrix[j][to_dec(alpha)] = B_matrix[j-1][to_dec(max_beta)] + None # ## TODO ##\n",
    "    \n",
    "    return B_matrix[maxj][to_dec((1,1))][:k]"
   ]
  },
  {
   "cell_type": "code",
   "execution_count": 10,
   "metadata": {},
   "outputs": [],
   "source": [
    "def decoder(ys, repeat): ## TODO ##\n",
    "    if repeat % 3 != 0:\n",
    "        raise Exception('repeat arg. has to be a multiple of 3.')\n",
    "    yss = remove_erasures(ys, repeat)\n",
    "    return yss\n",
    "    #dec = []\n",
    "    #for ys in yss:\n",
    "        #dec.append(convolutional_decoder(ys, len(ys/2) + 2))\n",
    "    # fais un systeme de vote ?\n",
    "    #return dec[0]"
   ]
  },
  {
   "cell_type": "markdown",
   "metadata": {},
   "source": [
    "## Server Pipeline"
   ]
  },
  {
   "cell_type": "code",
   "execution_count": 11,
   "metadata": {},
   "outputs": [],
   "source": [
    "def encode(filename, repeat = 3):\n",
    "    file = open(filename, 'r')\n",
    "    data = file.read()\n",
    "    file.close()\n",
    "    \n",
    "    bits = string_to_bits(data)\n",
    "    xs = encoder(bits, 3)\n",
    "    np.savetxt(filename[:-4] + '-encoded.txt', xs)"
   ]
  },
  {
   "cell_type": "code",
   "execution_count": 12,
   "metadata": {},
   "outputs": [],
   "source": [
    "def decode(filename, repeat = 3):\n",
    "    ys = np.loadtxt(filename)\n",
    "    bits = decoder(ys, repeat)\n",
    "    data = bits_to_string(bits)\n",
    "    \n",
    "    file = open(filename[:-4] + '-decoded.txt', 'w')\n",
    "    file.write(data)\n",
    "    file.close()"
   ]
  },
  {
   "cell_type": "markdown",
   "metadata": {},
   "source": [
    "## Channel Models"
   ]
  },
  {
   "cell_type": "code",
   "execution_count": 13,
   "metadata": {},
   "outputs": [],
   "source": [
    "def silent_channel(chanInput):\n",
    "    chanInput = np.clip(chanInput,-1,1)\n",
    "    erasedIndex = np.random.randint(3)\n",
    "    chanInput[erasedIndex:len(chanInput):3] = 0\n",
    "    return chanInput, erasedIndex"
   ]
  },
  {
   "cell_type": "code",
   "execution_count": 14,
   "metadata": {},
   "outputs": [],
   "source": [
    "def noisy_channel(chanInput, var = 10):\n",
    "    chanInput = np.clip(chanInput,-1,1)\n",
    "    erasedIndex = np.random.randint(3)\n",
    "    chanInput[erasedIndex:len(chanInput):3] = 0\n",
    "    return chanInput + np.sqrt(var)*np.random.randn(len(chanInput)), erasedIndex"
   ]
  },
  {
   "cell_type": "markdown",
   "metadata": {},
   "source": [
    "---\n",
    "# Test section"
   ]
  },
  {
   "cell_type": "markdown",
   "metadata": {},
   "source": [
    "## Serialization"
   ]
  },
  {
   "cell_type": "code",
   "execution_count": 15,
   "metadata": {},
   "outputs": [],
   "source": [
    "data = open('files/input.txt', 'r').read()"
   ]
  },
  {
   "cell_type": "code",
   "execution_count": 16,
   "metadata": {},
   "outputs": [
    {
     "data": {
      "text/plain": [
       "\"Ceci est un test. Je m'appelle Antoine et j'écris des accents pour faire des tests.\\n😀\\n\""
      ]
     },
     "execution_count": 16,
     "metadata": {},
     "output_type": "execute_result"
    }
   ],
   "source": [
    "bits_to_string(string_to_bits(data))"
   ]
  },
  {
   "cell_type": "markdown",
   "metadata": {},
   "source": [
    "## Erasure detection"
   ]
  },
  {
   "cell_type": "code",
   "execution_count": 17,
   "metadata": {},
   "outputs": [],
   "source": [
    "data = open('files/input.txt', 'r').read()\n",
    "bits = string_to_bits(data)"
   ]
  },
  {
   "cell_type": "code",
   "execution_count": 18,
   "metadata": {},
   "outputs": [],
   "source": [
    "def detect_erasure_test(channel, repeats = 30, iters = 100):\n",
    "    errors = {}\n",
    "    logs = {}\n",
    "    \n",
    "    for rep in range(3, repeats, 3):\n",
    "        xs = np.repeat(bits, rep)\n",
    "\n",
    "        loc_err = 0\n",
    "        loc_logs = {}\n",
    "\n",
    "        for i in range(iters):\n",
    "            xsi, ei = channel(xs)\n",
    "            dec_xsi = [xsi[i::rep] for i in range(rep)]\n",
    "            mod = detect_erasure(dec_xsi)\n",
    "            if ei != mod:\n",
    "                loc_err += 1\n",
    "                loc_logs[i] = {\n",
    "                    'xs': xsi,\n",
    "                    'dec_xs': dec_xsi,\n",
    "                    'ei': ei,\n",
    "                    'mod': mod\n",
    "                }\n",
    "\n",
    "        errors[rep] = loc_err\n",
    "        logs[rep] = loc_logs\n",
    "    \n",
    "    return errors, logs"
   ]
  },
  {
   "cell_type": "markdown",
   "metadata": {},
   "source": [
    "### Over silent channel"
   ]
  },
  {
   "cell_type": "code",
   "execution_count": 19,
   "metadata": {},
   "outputs": [],
   "source": [
    "errors, _ = detect_erasure_test(silent_channel, 15, 100)"
   ]
  },
  {
   "cell_type": "code",
   "execution_count": 20,
   "metadata": {},
   "outputs": [
    {
     "data": {
      "image/png": "[encoded data removed]",
      "text/plain": [
       "<Figure size 432x288 with 1 Axes>"
      ]
     },
     "metadata": {
      "needs_background": "light"
     },
     "output_type": "display_data"
    }
   ],
   "source": [
    "plt.plot(list(errors.keys()), list(errors.values()))\n",
    "plt.xlabel('Symbols duplication factor')\n",
    "plt.ylabel(f'Errors % out of {100} tries')\n",
    "plt.show()"
   ]
  },
  {
   "cell_type": "markdown",
   "metadata": {},
   "source": [
    "### Over noisy channel"
   ]
  },
  {
   "cell_type": "code",
   "execution_count": 21,
   "metadata": {},
   "outputs": [],
   "source": [
    "repeats, iters = 60, 300\n",
    "errors, logs = detect_erasure_test(noisy_channel, repeats, iters)"
   ]
  },
  {
   "cell_type": "code",
   "execution_count": 22,
   "metadata": {},
   "outputs": [
    {
     "data": {
      "image/png": "[encoded data removed]",
      "text/plain": [
       "<Figure size 432x288 with 1 Axes>"
      ]
     },
     "metadata": {
      "needs_background": "light"
     },
     "output_type": "display_data"
    }
   ],
   "source": [
    "plt.plot(list(errors.keys()), np.array(list(errors.values()))/iters)\n",
    "plt.xlabel('Symbols duplication factor')\n",
    "plt.ylabel(f'Errors % out of {iters} tries')\n",
    "plt.show()"
   ]
  },
  {
   "cell_type": "markdown",
   "metadata": {},
   "source": [
    "## Encoder"
   ]
  },
  {
   "cell_type": "markdown",
   "metadata": {},
   "source": [
    "## Decoder"
   ]
  },
  {
   "cell_type": "markdown",
   "metadata": {},
   "source": [
    "## Server Pipeline"
   ]
  },
  {
   "cell_type": "code",
   "execution_count": 23,
   "metadata": {},
   "outputs": [],
   "source": [
    "encode('files/input.txt')"
   ]
  },
  {
   "cell_type": "markdown",
   "metadata": {},
   "source": [
    "---\n",
    "# *TODO*"
   ]
  },
  {
   "cell_type": "markdown",
   "metadata": {},
   "source": [
    "- Finir conv. decoder\n",
    "- Se poser sur le système de votes\n",
    "- Find optimal *repeat* parameter ***DONE***\n",
    "\n",
    "\n",
    "- Pipeline server (easy) ***DONE***\n",
    "- Tester pipeline server ***DONE***\n",
    "\n",
    "\n",
    "- Faire des vrais tests avec zero noise ***DONE***\n",
    "- Faire des vrais tests avec peu noise local\n",
    "- Faire des vrais tests avec real noise local"
   ]
  }
 ],
 "metadata": {
  "kernelspec": {
   "display_name": "Python 3",
   "language": "python",
   "name": "python3"
  },
  "language_info": {
   "codemirror_mode": {
    "name": "ipython",
    "version": 3
   },
   "file_extension": ".py",
   "mimetype": "text/x-python",
   "name": "python",
   "nbconvert_exporter": "python",
   "pygments_lexer": "ipython3",
   "version": "3.8.5"
  }
 },
 "nbformat": 4,
 "nbformat_minor": 4
}
