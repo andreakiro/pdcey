{
 "cells": [
  {
   "cell_type": "markdown",
   "metadata": {},
   "source": [
    "# PDC project - Channel Model"
   ]
  },
  {
   "cell_type": "code",
   "execution_count": 1,
   "metadata": {},
   "outputs": [],
   "source": [
    "import numpy as np\n",
    "import bitarray\n",
    "import matplotlib.pyplot as plt\n",
    "import states"
   ]
  },
  {
   "cell_type": "markdown",
   "metadata": {},
   "source": [
    "## Serialization"
   ]
  },
  {
   "cell_type": "code",
   "execution_count": 2,
   "metadata": {},
   "outputs": [],
   "source": [
    "\"\"\"Convert UTF-8 string to bits\n",
    "\n",
    "@param: (s) Given string\n",
    "@return: numpy.ndarray of bits living in [-1, 1]\n",
    "\"\"\"\n",
    "def string_to_bits(s):\n",
    "    bs = bitarray.bitarray()\n",
    "    bs.frombytes(s.encode('utf-8'))\n",
    "    bs = np.array(list(bs))\n",
    "    return np.where(bs == 0, -1, bs)"
   ]
  },
  {
   "cell_type": "code",
   "execution_count": 3,
   "metadata": {},
   "outputs": [],
   "source": [
    "\"\"\"Convert bits to UTF-8 string\n",
    "\n",
    "@param: (bs) numpy.ndarray of bits living in [-1, 1]\n",
    "@return: String corresponding to the input bits\n",
    "\"\"\"\n",
    "def bits_to_string(bs):\n",
    "    return bitarray.bitarray(list(np.where(bs == -1, 0, bs))).tobytes().decode('utf-8')"
   ]
  },
  {
   "cell_type": "markdown",
   "metadata": {},
   "source": [
    "## Convolutional Encoding"
   ]
  },
  {
   "cell_type": "code",
   "execution_count": 4,
   "metadata": {},
   "outputs": [],
   "source": [
    "\"\"\"Find optimal symbol duplication factor\n",
    "\n",
    "@param: (bs) Bit sequence living in [-1, 1]\n",
    "@param: (blocklen) Block length allocation\n",
    "@return: Optimal symbol duplication factor\n",
    "\"\"\"\n",
    "def optimal_repeat(bs, blocklen, mod=3):\n",
    "    optimal = blocklen // len(bs)\n",
    "    return optimal - (optimal % 3)"
   ]
  },
  {
   "cell_type": "markdown",
   "metadata": {},
   "source": [
    "### Convolutional Encoder"
   ]
  },
  {
   "cell_type": "code",
   "execution_count": 5,
   "metadata": {},
   "outputs": [],
   "source": [
    "\"\"\"Convolutional Encoder\n",
    "\n",
    "@param: (bs) Bit sequence living in [-1, 1]\n",
    "@return: Convolutionally encoded bit array\n",
    "\"\"\"\n",
    "def convolutional_encoder(bs):\n",
    "    bs = np.append([1, 1], bs) # adding dummy bits\n",
    "    bs = np.append(bs, [1,1]) # adding dummy bits\n",
    "    codewords = []\n",
    "    \n",
    "    for i in range(2, len(bs)):\n",
    "        codewords.append(bs[i]*bs[i-2])\n",
    "        codewords.append(bs[i]*bs[i-1]*bs[i-2])\n",
    "        \n",
    "    return np.array(codewords)"
   ]
  },
  {
   "cell_type": "code",
   "execution_count": 44,
   "metadata": {},
   "outputs": [],
   "source": [
    "\"\"\"Main Encoder Module\n",
    "\n",
    "@param: (bs) Bit sequence living in [-1, 1]\n",
    "@param: (repeat) Symbol duplication factor\n",
    "@param: (blocklen) Block length allocation\n",
    "@return: Encoded bit string ready to send\n",
    "\"\"\"\n",
    "def encoder(bs, repeat=None, blocklen=60000):\n",
    "    if repeat is not None and repeat % 3 != 0 and repeat != 1:\n",
    "        raise Exception('Repeat arg. has to be a multiple of 3 or 1.')\n",
    "    codewords = convolutional_encoder(bs)\n",
    "    repeat = optimal_repeat(codewords, blocklen) if repeat is None else repeat\n",
    "    return np.repeat(codewords, repeat), repeat"
   ]
  },
  {
   "cell_type": "markdown",
   "metadata": {},
   "source": [
    "### Erasure Detection"
   ]
  },
  {
   "cell_type": "code",
   "execution_count": 7,
   "metadata": {},
   "outputs": [],
   "source": [
    "\"\"\"Detect index of erasure\n",
    "\n",
    "@param: (yss) List of bit sequences\n",
    "@return: Erased index modulo 3\n",
    "\"\"\"\n",
    "def detect_erasure(yss, mod=3):\n",
    "    bins = np.sum(np.abs(yss), axis=1)\n",
    "    mods = []\n",
    "    for i in range(mod):\n",
    "        mods.append(np.sum(bins[i::3]))\n",
    "    return np.argmin(mods)"
   ]
  },
  {
   "cell_type": "code",
   "execution_count": 8,
   "metadata": {},
   "outputs": [],
   "source": [
    "\"\"\"Remove erased index symbols\n",
    "\n",
    "@param: (ys) Noised bit sequence from channel output\n",
    "@return: List of bit sequences without erased symbols\n",
    "\"\"\"\n",
    "def remove_erasures(ys, repeat):\n",
    "    dec_ys = [ys[i::repeat] for i in range(repeat)]\n",
    "    mod = detect_erasure(dec_ys)\n",
    "    return [dec_ys[i] for i in range(repeat) if i % 3 != mod]"
   ]
  },
  {
   "cell_type": "markdown",
   "metadata": {},
   "source": [
    "### Convolutional Decoder"
   ]
  },
  {
   "cell_type": "code",
   "execution_count": 9,
   "metadata": {},
   "outputs": [],
   "source": [
    "\"\"\"Convert Viterbi state to decimal index\n",
    "\n",
    "@param: (alpha) Viterbi state\n",
    "@return: Corresponding index\n",
    "\"\"\"\n",
    "def to_dec(alpha):\n",
    "    return int(str(alpha[0]) + str(alpha[1]), 2)"
   ]
  },
  {
   "cell_type": "code",
   "execution_count": 10,
   "metadata": {},
   "outputs": [],
   "source": [
    "\"\"\"Convolutional Decoder - Viterbi algorithm\n",
    "\n",
    "@param: (ys) Noised bit sequence from channel output\n",
    "@param: (transitions) Viterbi states transitions \n",
    "@return: Decoded bit sequence living in [-1, 1]\n",
    "\"\"\"\n",
    "def convolutional_decoder(ys, transitions):\n",
    "    \n",
    "    # maximum depth\n",
    "    maxj = (len(ys) // 2) + 1\n",
    "    \n",
    "    # create empty data structures\n",
    "    alphas = [set() for _ in range(maxj)]\n",
    "    paths = [[list() for _ in range(4)] for _ in range(maxj)]\n",
    "    paths_cost = [[-np.inf for _ in range(4)] for _ in range(maxj)]\n",
    "    \n",
    "    # initializing the structures\n",
    "    paths_cost[0][to_dec((1,1))] = 0 \n",
    "    alphas[0] = {(1,1)}\n",
    "    \n",
    "    for j in range(1, maxj):        \n",
    "        for alpha in alphas[j-1]:\n",
    "            for beta in [(0, alpha[0]), (1, alpha[0])]:\n",
    "                \n",
    "                x = transitions[alpha][beta]['cw']\n",
    "                \n",
    "                edge_cost = x[0]*ys[2*j-1-1] + x[1]*ys[2*j-1]\n",
    "                subpath_cost = paths_cost[j-1][to_dec(alpha)]\n",
    "                cost = edge_cost + subpath_cost\n",
    "                \n",
    "                alphas[j].add(beta)\n",
    "                \n",
    "                if cost > paths_cost[j][to_dec(beta)]:\n",
    "                    paths_cost[j][to_dec(beta)] = cost\n",
    "                    paths[j][to_dec(beta)] = paths[j-1][to_dec(alpha)] + [transitions[alpha][beta]['bit']]\n",
    "                \n",
    "    return paths[maxj-1][to_dec((1,1))][:-2]"
   ]
  },
  {
   "cell_type": "code",
   "execution_count": 11,
   "metadata": {},
   "outputs": [],
   "source": [
    "\"\"\"Main Decoder Module\n",
    "\n",
    "@param: (ys) Noised bit sequence\n",
    "@param: (repeat) Symbol duplication factor\n",
    "@return: Decoded bit sequence living in [-1, 1] \n",
    "\"\"\"\n",
    "def decoder(ys, repeat):\n",
    "    if repeat % 3 != 0 and repeat != 1:\n",
    "        raise Exception('Repeat arg. has to be a multiple of 3 or 1.')\n",
    "    \n",
    "    yss = remove_erasures(ys, repeat)\n",
    "    ys = np.sum(yss, axis=0)\n",
    "    transitions = states.transitions()\n",
    "\n",
    "    return convolutional_decoder(ys, transitions)"
   ]
  },
  {
   "cell_type": "markdown",
   "metadata": {},
   "source": [
    "## Server Pipeline"
   ]
  },
  {
   "cell_type": "code",
   "execution_count": 45,
   "metadata": {},
   "outputs": [],
   "source": [
    "def encode(filename):\n",
    "    file = open(filename, 'r')\n",
    "    data = file.read()\n",
    "    file.close()\n",
    "    \n",
    "    bs = string_to_bits(data)\n",
    "    xs, repeat = encoder(bs)\n",
    "    \n",
    "    np.savetxt(filename[:-4] + '-encoded.txt', xs)\n",
    "    \n",
    "    return repeat, len(xs)"
   ]
  },
  {
   "cell_type": "code",
   "execution_count": 46,
   "metadata": {},
   "outputs": [],
   "source": [
    "def decode(filename, repeat):\n",
    "    ys = np.loadtxt(filename)\n",
    "    bs = decoder(ys, repeat)\n",
    "    data = bits_to_string(np.array(bs))\n",
    "    \n",
    "    file = open(filename[:-4] + '-decoded.txt', 'w')\n",
    "    file.write(data)\n",
    "    file.close()\n",
    "    \n",
    "    return data"
   ]
  },
  {
   "cell_type": "markdown",
   "metadata": {},
   "source": [
    "# Main Program"
   ]
  },
  {
   "cell_type": "code",
   "execution_count": 47,
   "metadata": {},
   "outputs": [],
   "source": [
    "repeat, blocklen = encode('files/input.txt')"
   ]
  },
  {
   "cell_type": "code",
   "execution_count": 48,
   "metadata": {},
   "outputs": [
    {
     "name": "stdout",
     "output_type": "stream",
     "text": [
      "We are using 56316 symbols during transmission.\n"
     ]
    }
   ],
   "source": [
    "print(f'We are using {blocklen} symbols during transmission.')"
   ]
  },
  {
   "cell_type": "code",
   "execution_count": 49,
   "metadata": {},
   "outputs": [],
   "source": [
    "! python3 client/client.py --input_file 'files/input-encoded.txt' --output_file 'files/output.txt' --srv_hostname iscsrv72.epfl.ch --srv_port 80"
   ]
  },
  {
   "cell_type": "code",
   "execution_count": 50,
   "metadata": {},
   "outputs": [
    {
     "data": {
      "text/plain": [
       "\"Ceci est un test. Je m'appelle Antoine et j'écris des accents pour faire des tests.\\n😀\\n\""
      ]
     },
     "execution_count": 50,
     "metadata": {},
     "output_type": "execute_result"
    }
   ],
   "source": [
    "decode('files/output.txt', repeat)"
   ]
  },
  {
   "cell_type": "markdown",
   "metadata": {},
   "source": [
    "---\n",
    "# Test section"
   ]
  },
  {
   "cell_type": "markdown",
   "metadata": {},
   "source": [
    "## Channel Models"
   ]
  },
  {
   "cell_type": "code",
   "execution_count": null,
   "metadata": {},
   "outputs": [],
   "source": [
    "def silent_channel(chanInput):\n",
    "    chanInput = np.clip(chanInput,-1,1)\n",
    "    erasedIndex = np.random.randint(3)\n",
    "    chanInput[erasedIndex:len(chanInput):3] = 0\n",
    "    return chanInput, erasedIndex"
   ]
  },
  {
   "cell_type": "code",
   "execution_count": null,
   "metadata": {},
   "outputs": [],
   "source": [
    "def noisy_channel(chanInput, var = 10):\n",
    "    chanInput = np.clip(chanInput,-1,1)\n",
    "    erasedIndex = np.random.randint(3)\n",
    "    chanInput[erasedIndex:len(chanInput):3] = 0\n",
    "    return chanInput + np.sqrt(var)*np.random.randn(len(chanInput)), erasedIndex"
   ]
  },
  {
   "cell_type": "code",
   "execution_count": null,
   "metadata": {},
   "outputs": [],
   "source": [
    "def noisy_soft_channel(chanInput, var = 10):\n",
    "    chanInput = np.clip(chanInput,-1,1)\n",
    "    return chanInput + np.sqrt(var)*np.random.randn(len(chanInput))"
   ]
  },
  {
   "cell_type": "markdown",
   "metadata": {},
   "source": [
    "## Serialization"
   ]
  },
  {
   "cell_type": "code",
   "execution_count": null,
   "metadata": {},
   "outputs": [],
   "source": [
    "data = open('files/input.txt', 'r').read()"
   ]
  },
  {
   "cell_type": "code",
   "execution_count": null,
   "metadata": {},
   "outputs": [],
   "source": [
    "bits_to_string(string_to_bits(data))"
   ]
  },
  {
   "cell_type": "markdown",
   "metadata": {},
   "source": [
    "## Erasure detection"
   ]
  },
  {
   "cell_type": "code",
   "execution_count": null,
   "metadata": {},
   "outputs": [],
   "source": [
    "data = open('files/input.txt', 'r').read()\n",
    "bits = string_to_bits(data)"
   ]
  },
  {
   "cell_type": "code",
   "execution_count": null,
   "metadata": {},
   "outputs": [],
   "source": [
    "def detect_erasure_test(inp, channel, repeats = 30, iters = 100):\n",
    "    errors = {}\n",
    "    logs = {}\n",
    "    bits = inp\n",
    "    \n",
    "    for rep in range(3, repeats, 3):\n",
    "        xs = np.repeat(bits, rep)\n",
    "\n",
    "        loc_err = 0\n",
    "        loc_logs = {}\n",
    "\n",
    "        for i in range(iters):\n",
    "            xsi, ei = channel(xs)\n",
    "            dec_xsi = [xsi[i::rep] for i in range(rep)]\n",
    "            mod = detect_erasure(dec_xsi)\n",
    "            if ei != mod:\n",
    "                loc_err += 1\n",
    "                loc_logs[i] = {\n",
    "                    'xs': xsi,\n",
    "                    'dec_xs': dec_xsi,\n",
    "                    'ei': ei,\n",
    "                    'mod': mod\n",
    "                }\n",
    "\n",
    "        errors[rep] = loc_err\n",
    "        logs[rep] = loc_logs\n",
    "    \n",
    "    return errors, logs"
   ]
  },
  {
   "cell_type": "markdown",
   "metadata": {},
   "source": [
    "### Over silent channel"
   ]
  },
  {
   "cell_type": "code",
   "execution_count": null,
   "metadata": {},
   "outputs": [],
   "source": [
    "errors, _ = detect_erasure_test(bits, silent_channel, 15, 100)"
   ]
  },
  {
   "cell_type": "code",
   "execution_count": null,
   "metadata": {},
   "outputs": [],
   "source": [
    "plt.plot(list(errors.keys()), list(errors.values()))\n",
    "plt.xlabel('Symbols duplication factor')\n",
    "plt.ylabel(f'Errors % out of {100} tries')\n",
    "plt.show()"
   ]
  },
  {
   "cell_type": "markdown",
   "metadata": {},
   "source": [
    "### Over noisy channel"
   ]
  },
  {
   "cell_type": "code",
   "execution_count": null,
   "metadata": {},
   "outputs": [],
   "source": [
    "repeats, iters = 60, 300\n",
    "errors, logs = detect_erasure_test(bits, noisy_channel, repeats, iters)"
   ]
  },
  {
   "cell_type": "code",
   "execution_count": null,
   "metadata": {},
   "outputs": [],
   "source": [
    "plt.plot(list(errors.keys()), np.array(list(errors.values()))/iters)\n",
    "plt.xlabel('Symbols duplication factor')\n",
    "plt.ylabel(f'Errors % out of {iters} tries')\n",
    "plt.show()"
   ]
  },
  {
   "cell_type": "markdown",
   "metadata": {},
   "source": [
    "## Convolutional Encoding - Viterbi"
   ]
  },
  {
   "cell_type": "code",
   "execution_count": null,
   "metadata": {},
   "outputs": [],
   "source": [
    "ys_book = [1,3,-2,1,4,-1,5,5,-3,-3,1,-6,2,-4]\n",
    "res_book = convolutional_decoder(ys_book, states.transitions())\n",
    "print(res_book)"
   ]
  },
  {
   "cell_type": "code",
   "execution_count": null,
   "metadata": {},
   "outputs": [],
   "source": [
    "xs_test = encoder([1,1,-1,1], 1)\n",
    "res_test = convolutional_decoder(xs_test, states.transitions())\n",
    "print(res_test)"
   ]
  },
  {
   "cell_type": "code",
   "execution_count": null,
   "metadata": {},
   "outputs": [],
   "source": [
    "xs_test_1 = [1,1,-1,1,1,-1,-1,1,1,-1,1,1,-1]\n",
    "xs_test_2 = [1,1,1,-1,-1,1,1,-1,1,1,-1,1,1,-1,-1,-1,1,-1,1]\n",
    "res_test_1 = convolutional_decoder(encoder(xs_test_1,1), states.transitions())\n",
    "res_test_2 = convolutional_decoder(encoder(xs_test_2,1), states.transitions())\n",
    "print(xs_test_1 == res_test_1 and xs_test_2 == res_test_2)"
   ]
  },
  {
   "cell_type": "markdown",
   "metadata": {},
   "source": [
    "## Convolutional Encoding Pipeline"
   ]
  },
  {
   "cell_type": "code",
   "execution_count": null,
   "metadata": {},
   "outputs": [],
   "source": [
    "hey = \"1234Hey. J'écris des accents pour faire des tests et j'aime la pêche. Bonsoir. 😀\""
   ]
  },
  {
   "cell_type": "code",
   "execution_count": null,
   "metadata": {},
   "outputs": [],
   "source": [
    "def conv_enc_test(string, repeat, prints=False):\n",
    "    bts = string_to_bits(string)\n",
    "    enc, rep = encoder(bts)\n",
    "    print(rep)\n",
    "    out = noisy_channel(enc, 10)[0]\n",
    "    dec = decoder(out, rep)\n",
    "    try:\n",
    "        res =  bits_to_string(np.array(dec))\n",
    "    except UnicodeDecodeError as err:\n",
    "        res = 'Cant decode: UTF8 error.'\n",
    "    if prints:\n",
    "        print(f'Block usage: {len(enc)} ({len(enc) / 60000})')\n",
    "    return res"
   ]
  },
  {
   "cell_type": "code",
   "execution_count": null,
   "metadata": {},
   "outputs": [],
   "source": [
    "60000//680"
   ]
  },
  {
   "cell_type": "code",
   "execution_count": null,
   "metadata": {},
   "outputs": [],
   "source": [
    "conv_enc_test(hey, 42, prints=True)"
   ]
  },
  {
   "cell_type": "markdown",
   "metadata": {},
   "source": [
    "### Statistics"
   ]
  },
  {
   "cell_type": "code",
   "execution_count": null,
   "metadata": {},
   "outputs": [],
   "source": [
    "def test_conv_enc_stats(string, repeat, iters):\n",
    "    accuracy = iters\n",
    "    logs = {}\n",
    "    for i in range(iters):\n",
    "        print(i, end='\\r')\n",
    "        result = conv_enc_test(string, repeat)\n",
    "        if result != string:\n",
    "            accuracy -= 1\n",
    "            logs[i] = result\n",
    "    return accuracy/iters, logs"
   ]
  },
  {
   "cell_type": "code",
   "execution_count": null,
   "metadata": {},
   "outputs": [],
   "source": [
    "acc, logs = test_conv_enc_stats(hey, 42, 1000)"
   ]
  },
  {
   "cell_type": "code",
   "execution_count": null,
   "metadata": {},
   "outputs": [],
   "source": [
    "acc"
   ]
  },
  {
   "cell_type": "code",
   "execution_count": null,
   "metadata": {},
   "outputs": [],
   "source": [
    "logs"
   ]
  },
  {
   "cell_type": "code",
   "execution_count": null,
   "metadata": {},
   "outputs": [],
   "source": [
    "100 - (((1 - acc) ** 2) * 100)"
   ]
  },
  {
   "cell_type": "markdown",
   "metadata": {},
   "source": [
    "## Test plutôt hot"
   ]
  },
  {
   "cell_type": "code",
   "execution_count": null,
   "metadata": {},
   "outputs": [],
   "source": [
    "buonasera = \"😀\" * 80"
   ]
  },
  {
   "cell_type": "code",
   "execution_count": null,
   "metadata": {},
   "outputs": [],
   "source": [
    "conv_enc_test(buonasera, 12, prints=True)"
   ]
  },
  {
   "cell_type": "code",
   "execution_count": null,
   "metadata": {},
   "outputs": [],
   "source": [
    "100 - (0.2 ** 2)"
   ]
  },
  {
   "cell_type": "markdown",
   "metadata": {},
   "source": [
    "## Test plutôt hot"
   ]
  },
  {
   "cell_type": "code",
   "execution_count": null,
   "metadata": {},
   "outputs": [],
   "source": [
    "abloespanol = \"J'aime la salade niçoise avec des petits dés de jambons et une adresse @ 你好\""
   ]
  },
  {
   "cell_type": "code",
   "execution_count": null,
   "metadata": {},
   "outputs": [],
   "source": [
    "len(convolutional_encoder(string_to_bits(abloespanol)))"
   ]
  },
  {
   "cell_type": "code",
   "execution_count": null,
   "metadata": {},
   "outputs": [],
   "source": [
    "conv_enc_test(abloespanol, 45, 100)"
   ]
  },
  {
   "cell_type": "code",
   "execution_count": null,
   "metadata": {},
   "outputs": [],
   "source": [
    "accespanol, logespanol = test_conv_enc_stats(abloespanol, 45, 1000)"
   ]
  },
  {
   "cell_type": "code",
   "execution_count": null,
   "metadata": {},
   "outputs": [],
   "source": [
    "accespanol"
   ]
  },
  {
   "cell_type": "code",
   "execution_count": null,
   "metadata": {},
   "outputs": [],
   "source": [
    "(((1 - accespanol) ** 2) * 100)"
   ]
  },
  {
   "cell_type": "code",
   "execution_count": null,
   "metadata": {},
   "outputs": [],
   "source": [
    "(1 - accespanol)**2"
   ]
  },
  {
   "cell_type": "code",
   "execution_count": null,
   "metadata": {},
   "outputs": [],
   "source": [
    "logespanol"
   ]
  },
  {
   "cell_type": "code",
   "execution_count": null,
   "metadata": {},
   "outputs": [],
   "source": [
    "cnt = 0\n",
    "for s in logespanol.values():\n",
    "    if s == 'Cant decode: UTF8 error.':\n",
    "        cnt += 1\n",
    "cnt/10"
   ]
  },
  {
   "cell_type": "code",
   "execution_count": null,
   "metadata": {},
   "outputs": [],
   "source": [
    "100-((1-(0.021**2))*100)"
   ]
  },
  {
   "cell_type": "code",
   "execution_count": null,
   "metadata": {},
   "outputs": [],
   "source": []
  }
 ],
 "metadata": {
  "kernelspec": {
   "display_name": "Python 3",
   "language": "python",
   "name": "python3"
  },
  "language_info": {
   "codemirror_mode": {
    "name": "ipython",
    "version": 3
   },
   "file_extension": ".py",
   "mimetype": "text/x-python",
   "name": "python",
   "nbconvert_exporter": "python",
   "pygments_lexer": "ipython3",
   "version": "3.8.5"
  }
 },
 "nbformat": 4,
 "nbformat_minor": 4
}
