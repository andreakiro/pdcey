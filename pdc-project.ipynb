{
 "cells": [
  {
   "cell_type": "code",
   "execution_count": 31,
   "metadata": {},
   "outputs": [],
   "source": [
    "import numpy as np\n",
    "import bitarray"
   ]
  },
  {
   "cell_type": "code",
   "execution_count": 32,
   "metadata": {},
   "outputs": [
    {
     "data": {
      "text/plain": [
       "\"Ceci est un test. Je m'appelle Antoine et j'écris des accents pour faire des tests.\""
      ]
     },
     "execution_count": 32,
     "metadata": {},
     "output_type": "execute_result"
    }
   ],
   "source": [
    "fileObject = open(\"input.txt\", \"r\")\n",
    "data = fileObject.read()\n",
    "data"
   ]
  },
  {
   "cell_type": "code",
   "execution_count": 52,
   "metadata": {},
   "outputs": [],
   "source": [
    "def string_to_nparray_of_bits(s):\n",
    "    ba = bitarray.bitarray()\n",
    "    ba.frombytes(data.encode('utf-8'))\n",
    "    nparray = np.array(list(ba))\n",
    "    return np.where(nparray == 0, -1, nparray)"
   ]
  },
  {
   "cell_type": "code",
   "execution_count": 53,
   "metadata": {},
   "outputs": [
    {
     "data": {
      "text/plain": [
       "array([-1,  1, -1, -1, -1, -1,  1,  1, -1,  1,  1, -1, -1,  1, -1,  1, -1,\n",
       "        1,  1, -1, -1, -1,  1,  1, -1,  1,  1, -1,  1, -1, -1,  1, -1, -1,\n",
       "        1, -1, -1, -1, -1, -1, -1,  1,  1, -1, -1,  1, -1,  1, -1,  1,  1,\n",
       "        1, -1, -1,  1,  1, -1,  1,  1,  1, -1,  1, -1, -1, -1, -1,  1, -1,\n",
       "       -1, -1, -1, -1, -1,  1,  1,  1, -1,  1, -1,  1, -1,  1,  1, -1,  1,\n",
       "        1,  1, -1, -1, -1,  1, -1, -1, -1, -1, -1, -1,  1,  1,  1, -1,  1,\n",
       "       -1, -1, -1,  1,  1, -1, -1,  1, -1,  1, -1,  1,  1,  1, -1, -1,  1,\n",
       "        1, -1,  1,  1,  1, -1,  1, -1, -1, -1, -1,  1, -1,  1,  1,  1, -1,\n",
       "       -1, -1,  1, -1, -1, -1, -1, -1, -1,  1, -1, -1,  1, -1,  1, -1, -1,\n",
       "        1,  1, -1, -1,  1, -1,  1, -1, -1,  1, -1, -1, -1, -1, -1, -1,  1,\n",
       "        1, -1,  1,  1, -1,  1, -1, -1,  1, -1, -1,  1,  1,  1, -1,  1,  1,\n",
       "       -1, -1, -1, -1,  1, -1,  1,  1,  1, -1, -1, -1, -1, -1,  1,  1,  1,\n",
       "       -1, -1, -1, -1, -1,  1,  1, -1, -1,  1, -1,  1, -1,  1,  1, -1,  1,\n",
       "        1, -1, -1, -1,  1,  1, -1,  1,  1, -1, -1, -1,  1,  1, -1, -1,  1,\n",
       "       -1,  1, -1, -1,  1, -1, -1, -1, -1, -1, -1,  1, -1, -1, -1, -1, -1,\n",
       "        1, -1,  1,  1, -1,  1,  1,  1, -1, -1,  1,  1,  1, -1,  1, -1, -1,\n",
       "       -1,  1,  1, -1,  1,  1,  1,  1, -1,  1,  1, -1,  1, -1, -1,  1, -1,\n",
       "        1,  1, -1,  1,  1,  1, -1, -1,  1,  1, -1, -1,  1, -1,  1, -1, -1,\n",
       "        1, -1, -1, -1, -1, -1, -1,  1,  1, -1, -1,  1, -1,  1, -1,  1,  1,\n",
       "        1, -1,  1, -1, -1, -1, -1,  1, -1, -1, -1, -1, -1, -1,  1,  1, -1,\n",
       "        1, -1,  1, -1, -1, -1,  1, -1, -1,  1,  1,  1,  1,  1, -1, -1, -1,\n",
       "       -1,  1,  1,  1, -1,  1, -1,  1, -1, -1,  1, -1,  1,  1, -1, -1, -1,\n",
       "        1,  1, -1,  1,  1,  1, -1, -1,  1, -1, -1,  1,  1, -1,  1, -1, -1,\n",
       "        1, -1,  1,  1,  1, -1, -1,  1,  1, -1, -1,  1, -1, -1, -1, -1, -1,\n",
       "       -1,  1,  1, -1, -1,  1, -1, -1, -1,  1,  1, -1, -1,  1, -1,  1, -1,\n",
       "        1,  1,  1, -1, -1,  1,  1, -1, -1,  1, -1, -1, -1, -1, -1, -1,  1,\n",
       "        1, -1, -1, -1, -1,  1, -1,  1,  1, -1, -1, -1,  1,  1, -1,  1,  1,\n",
       "       -1, -1, -1,  1,  1, -1,  1,  1, -1, -1,  1, -1,  1, -1,  1,  1, -1,\n",
       "        1,  1,  1, -1, -1,  1,  1,  1, -1,  1, -1, -1, -1,  1,  1,  1, -1,\n",
       "       -1,  1,  1, -1, -1,  1, -1, -1, -1, -1, -1, -1,  1,  1,  1, -1, -1,\n",
       "       -1, -1, -1,  1,  1, -1,  1,  1,  1,  1, -1,  1,  1,  1, -1,  1, -1,\n",
       "        1, -1,  1,  1,  1, -1, -1,  1, -1, -1, -1,  1, -1, -1, -1, -1, -1,\n",
       "       -1,  1,  1, -1, -1,  1,  1, -1, -1,  1,  1, -1, -1, -1, -1,  1, -1,\n",
       "        1,  1, -1,  1, -1, -1,  1, -1,  1,  1,  1, -1, -1,  1, -1, -1,  1,\n",
       "        1, -1, -1,  1, -1,  1, -1, -1,  1, -1, -1, -1, -1, -1, -1,  1,  1,\n",
       "       -1, -1,  1, -1, -1, -1,  1,  1, -1, -1,  1, -1,  1, -1,  1,  1,  1,\n",
       "       -1, -1,  1,  1, -1, -1,  1, -1, -1, -1, -1, -1, -1,  1,  1,  1, -1,\n",
       "        1, -1, -1, -1,  1,  1, -1, -1,  1, -1,  1, -1,  1,  1,  1, -1, -1,\n",
       "        1,  1, -1,  1,  1,  1, -1,  1, -1, -1, -1,  1,  1,  1, -1, -1,  1,\n",
       "        1, -1, -1,  1, -1,  1,  1,  1, -1])"
      ]
     },
     "execution_count": 53,
     "metadata": {},
     "output_type": "execute_result"
    }
   ],
   "source": [
    "tmp = string_to_nparray_of_bits(data)\n",
    "tmp"
   ]
  },
  {
   "cell_type": "code",
   "execution_count": 54,
   "metadata": {},
   "outputs": [],
   "source": [
    "def bits_to_string(bs):\n",
    "    return bitarray.bitarray(list(np.where(bs == -1, 0, bs))).tobytes().decode('utf-8')"
   ]
  },
  {
   "cell_type": "code",
   "execution_count": 56,
   "metadata": {},
   "outputs": [
    {
     "data": {
      "text/plain": [
       "\"Ceci est un test. Je m'appelle Antoine et j'écris des accents pour faire des tests.\""
      ]
     },
     "execution_count": 56,
     "metadata": {},
     "output_type": "execute_result"
    }
   ],
   "source": [
    "bits_to_string(tmp)"
   ]
  },
  {
   "cell_type": "code",
   "execution_count": 57,
   "metadata": {},
   "outputs": [],
   "source": [
    "def channel(chanInput):\n",
    "    chanInput = np.clip(chanInput,-1,1)\n",
    "    erasedIndex = np.random.randint(3)\n",
    "    chanInput[erasedIndex:len(chanInput):3] = 0\n",
    "    return chanInput + np.sqrt(10)*np.random.randn(len(chanInput))"
   ]
  },
  {
   "cell_type": "code",
   "execution_count": 58,
   "metadata": {},
   "outputs": [],
   "source": [
    "def channel_no_noise(chanInput):\n",
    "    chanInput = np.clip(chanInput,-1,1)\n",
    "    erasedIndex = np.random.randint(3)\n",
    "    chanInput[erasedIndex:len(chanInput):3] = 0\n",
    "    return chanInput"
   ]
  },
  {
   "cell_type": "code",
   "execution_count": 59,
   "metadata": {},
   "outputs": [
    {
     "data": {
      "text/plain": [
       "array([-1,  0, -1, -1,  0, -1,  1,  0, -1,  1,  0, -1, -1,  0, -1,  1,  0,\n",
       "        1,  1,  0, -1, -1,  0,  1, -1,  0,  1, -1,  0, -1, -1,  0, -1, -1,\n",
       "        0, -1, -1,  0, -1, -1,  0,  1,  1,  0, -1,  1,  0,  1, -1,  0,  1,\n",
       "        1,  0, -1,  1,  0, -1,  1,  0,  1, -1,  0, -1, -1,  0, -1,  1,  0,\n",
       "       -1, -1,  0, -1, -1,  0,  1,  1,  0,  1, -1,  0, -1,  1,  0, -1,  1,\n",
       "        0,  1, -1,  0, -1,  1,  0, -1, -1,  0, -1, -1,  0,  1,  1,  0,  1,\n",
       "       -1,  0, -1,  1,  0, -1, -1,  0, -1,  1,  0,  1,  1,  0, -1, -1,  0,\n",
       "        1, -1,  0,  1,  1,  0,  1, -1,  0, -1, -1,  0, -1,  1,  0,  1, -1,\n",
       "        0, -1,  1,  0, -1, -1,  0, -1, -1,  0, -1, -1,  0, -1,  1,  0, -1,\n",
       "        1,  0, -1, -1,  0, -1,  1,  0, -1,  1,  0, -1, -1,  0, -1, -1,  0,\n",
       "        1, -1,  0,  1, -1,  0, -1, -1,  0, -1, -1,  0,  1,  1,  0,  1,  1,\n",
       "        0, -1, -1,  0,  1, -1,  0,  1,  1,  0, -1, -1,  0, -1,  1,  0,  1,\n",
       "       -1,  0, -1, -1,  0,  1,  1,  0, -1,  1,  0,  1, -1,  0,  1, -1,  0,\n",
       "        1, -1,  0, -1,  1,  0, -1,  1,  0, -1, -1,  0,  1,  1,  0, -1,  1,\n",
       "        0,  1, -1,  0,  1, -1,  0, -1, -1,  0, -1,  1,  0, -1, -1,  0, -1,\n",
       "        1,  0,  1,  1,  0,  1,  1,  0, -1, -1,  0,  1,  1,  0,  1, -1,  0,\n",
       "       -1,  1,  0, -1,  1,  0,  1,  1,  0,  1,  1,  0,  1, -1,  0,  1, -1,\n",
       "        0,  1, -1,  0,  1,  1,  0, -1,  1,  0, -1, -1,  0, -1,  1,  0, -1,\n",
       "        1,  0, -1, -1,  0, -1, -1,  0,  1, -1,  0,  1, -1,  0, -1,  1,  0,\n",
       "        1, -1,  0, -1, -1,  0, -1,  1,  0, -1, -1,  0, -1, -1,  0,  1, -1,\n",
       "        0, -1,  1,  0, -1, -1,  0, -1, -1,  0,  1,  1,  0,  1, -1,  0, -1,\n",
       "       -1,  0,  1,  1,  0,  1, -1,  0, -1, -1,  0, -1,  1,  0, -1, -1,  0,\n",
       "        1,  1,  0,  1,  1,  0, -1, -1,  0, -1, -1,  0,  1, -1,  0, -1, -1,\n",
       "        0, -1,  1,  0,  1, -1,  0,  1,  1,  0, -1,  1,  0, -1, -1,  0, -1,\n",
       "       -1,  0,  1, -1,  0,  1, -1,  0, -1,  1,  0, -1, -1,  0, -1,  1,  0,\n",
       "        1,  1,  0, -1, -1,  0,  1, -1,  0,  1, -1,  0, -1, -1,  0, -1,  1,\n",
       "        0, -1, -1,  0, -1,  1,  0,  1,  1,  0, -1, -1,  0,  1, -1,  0,  1,\n",
       "       -1,  0, -1,  1,  0, -1,  1,  0, -1, -1,  0, -1,  1,  0,  1,  1,  0,\n",
       "        1,  1,  0, -1, -1,  0,  1,  1,  0,  1, -1,  0, -1,  1,  0,  1, -1,\n",
       "        0,  1,  1,  0, -1,  1,  0, -1, -1,  0, -1, -1,  0,  1,  1,  0, -1,\n",
       "       -1,  0, -1,  1,  0, -1,  1,  0,  1,  1,  0,  1,  1,  0, -1,  1,  0,\n",
       "        1, -1,  0,  1,  1,  0, -1,  1,  0, -1, -1,  0, -1, -1,  0, -1, -1,\n",
       "        0,  1,  1,  0, -1,  1,  0, -1, -1,  0,  1, -1,  0, -1, -1,  0, -1,\n",
       "        1,  0, -1,  1,  0, -1,  1,  0,  1,  1,  0, -1, -1,  0, -1, -1,  0,\n",
       "        1, -1,  0,  1, -1,  0, -1, -1,  0, -1, -1,  0, -1, -1,  0,  1,  1,\n",
       "        0, -1,  1,  0, -1, -1,  0,  1, -1,  0,  1, -1,  0, -1,  1,  0,  1,\n",
       "       -1,  0,  1,  1,  0, -1,  1,  0, -1, -1,  0, -1, -1,  0,  1,  1,  0,\n",
       "        1, -1,  0, -1,  1,  0, -1, -1,  0, -1,  1,  0,  1,  1,  0, -1, -1,\n",
       "        0,  1, -1,  0,  1,  1,  0,  1, -1,  0, -1,  1,  0,  1, -1,  0,  1,\n",
       "        1,  0, -1,  1,  0,  1,  1,  0, -1])"
      ]
     },
     "execution_count": 59,
     "metadata": {},
     "output_type": "execute_result"
    }
   ],
   "source": [
    "tmp = string_to_nparray_of_bits(data)\n",
    "tmp = channel_no_noise(tmp)\n",
    "tmp"
   ]
  },
  {
   "cell_type": "code",
   "execution_count": 60,
   "metadata": {},
   "outputs": [
    {
     "ename": "UnicodeDecodeError",
     "evalue": "'utf-8' codec can't decode byte 0xa0 in position 45: invalid start byte",
     "output_type": "error",
     "traceback": [
      "\u001b[0;31m---------------------------------------------------------------------------\u001b[0m",
      "\u001b[0;31mUnicodeDecodeError\u001b[0m                        Traceback (most recent call last)",
      "\u001b[0;32m<ipython-input-60-08db4732865a>\u001b[0m in \u001b[0;36m<module>\u001b[0;34m\u001b[0m\n\u001b[0;32m----> 1\u001b[0;31m \u001b[0mbits_to_string\u001b[0m\u001b[0;34m(\u001b[0m\u001b[0mtmp\u001b[0m\u001b[0;34m)\u001b[0m\u001b[0;34m\u001b[0m\u001b[0;34m\u001b[0m\u001b[0m\n\u001b[0m",
      "\u001b[0;32m<ipython-input-54-df2e9dd20295>\u001b[0m in \u001b[0;36mbits_to_string\u001b[0;34m(bs)\u001b[0m\n\u001b[1;32m      1\u001b[0m \u001b[0;32mdef\u001b[0m \u001b[0mbits_to_string\u001b[0m\u001b[0;34m(\u001b[0m\u001b[0mbs\u001b[0m\u001b[0;34m)\u001b[0m\u001b[0;34m:\u001b[0m\u001b[0;34m\u001b[0m\u001b[0;34m\u001b[0m\u001b[0m\n\u001b[0;32m----> 2\u001b[0;31m     \u001b[0;32mreturn\u001b[0m \u001b[0mbitarray\u001b[0m\u001b[0;34m.\u001b[0m\u001b[0mbitarray\u001b[0m\u001b[0;34m(\u001b[0m\u001b[0mlist\u001b[0m\u001b[0;34m(\u001b[0m\u001b[0mnp\u001b[0m\u001b[0;34m.\u001b[0m\u001b[0mwhere\u001b[0m\u001b[0;34m(\u001b[0m\u001b[0mbs\u001b[0m \u001b[0;34m==\u001b[0m \u001b[0;34m-\u001b[0m\u001b[0;36m1\u001b[0m\u001b[0;34m,\u001b[0m \u001b[0;36m0\u001b[0m\u001b[0;34m,\u001b[0m \u001b[0mbs\u001b[0m\u001b[0;34m)\u001b[0m\u001b[0;34m)\u001b[0m\u001b[0;34m)\u001b[0m\u001b[0;34m.\u001b[0m\u001b[0mtobytes\u001b[0m\u001b[0;34m(\u001b[0m\u001b[0;34m)\u001b[0m\u001b[0;34m.\u001b[0m\u001b[0mdecode\u001b[0m\u001b[0;34m(\u001b[0m\u001b[0;34m'utf-8'\u001b[0m\u001b[0;34m)\u001b[0m\u001b[0;34m\u001b[0m\u001b[0;34m\u001b[0m\u001b[0m\n\u001b[0m",
      "\u001b[0;31mUnicodeDecodeError\u001b[0m: 'utf-8' codec can't decode byte 0xa0 in position 45: invalid start byte"
     ]
    }
   ],
   "source": [
    "bits_to_string(tmp)"
   ]
  },
  {
   "cell_type": "code",
   "execution_count": null,
   "metadata": {},
   "outputs": [],
   "source": []
  }
 ],
 "metadata": {
  "kernelspec": {
   "display_name": "Python 3",
   "language": "python",
   "name": "python3"
  },
  "language_info": {
   "codemirror_mode": {
    "name": "ipython",
    "version": 3
   },
   "file_extension": ".py",
   "mimetype": "text/x-python",
   "name": "python",
   "nbconvert_exporter": "python",
   "pygments_lexer": "ipython3",
   "version": "3.7.3"
  }
 },
 "nbformat": 4,
 "nbformat_minor": 4
}
