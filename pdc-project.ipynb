{
 "cells": [
  {
   "cell_type": "code",
   "execution_count": 13,
   "metadata": {},
   "outputs": [],
   "source": [
    "import numpy as np\n",
    "import bitarray"
   ]
  },
  {
   "cell_type": "code",
   "execution_count": 14,
   "metadata": {},
   "outputs": [],
   "source": [
    "fileObject = open(\"input.txt\", \"r\")\n",
    "data = fileObject.read()"
   ]
  },
  {
   "cell_type": "code",
   "execution_count": 15,
   "metadata": {},
   "outputs": [],
   "source": [
    "def string_to_nparray_of_bits(s):\n",
    "    ba = bitarray.bitarray()\n",
    "    ba.frombytes(data.encode('utf-8'))\n",
    "    nparray = np.array(list(ba))\n",
    "    return np.where(nparray == 0, -1, nparray)"
   ]
  },
  {
   "cell_type": "code",
   "execution_count": 16,
   "metadata": {},
   "outputs": [],
   "source": [
    "def bits_to_string(bs):\n",
    "    return bitarray.bitarray(list(np.where(bs == -1, 0, bs))).tobytes().decode('utf-8')"
   ]
  },
  {
   "cell_type": "code",
   "execution_count": 17,
   "metadata": {},
   "outputs": [
    {
     "data": {
      "text/plain": [
       "\"Ceci est un test. Je m'appelle Antoine et j'écris des accents pour faire des tests.\\n😀\\n\""
      ]
     },
     "execution_count": 17,
     "metadata": {},
     "output_type": "execute_result"
    }
   ],
   "source": [
    "bits_to_string(string_to_nparray_of_bits(data))"
   ]
  },
  {
   "cell_type": "code",
   "execution_count": 10,
   "metadata": {},
   "outputs": [],
   "source": [
    "def channel(chanInput):\n",
    "    chanInput = np.clip(chanInput,-1,1)\n",
    "    erasedIndex = np.random.randint(3)\n",
    "    chanInput[erasedIndex:len(chanInput):3] = 0\n",
    "    return chanInput + np.sqrt(10)*np.random.randn(len(chanInput))"
   ]
  },
  {
   "cell_type": "code",
   "execution_count": 11,
   "metadata": {},
   "outputs": [],
   "source": [
    "def channel_no_noise(chanInput):\n",
    "    chanInput = np.clip(chanInput,-1,1)\n",
    "    erasedIndex = np.random.randint(3)\n",
    "    chanInput[erasedIndex:len(chanInput):3] = 0\n",
    "    return chanInput"
   ]
  },
  {
   "cell_type": "markdown",
   "metadata": {},
   "source": [
    "# Convolutional Encoding"
   ]
  },
  {
   "cell_type": "markdown",
   "metadata": {},
   "source": [
    "### Encoder"
   ]
  },
  {
   "cell_type": "code",
   "execution_count": 18,
   "metadata": {},
   "outputs": [],
   "source": [
    "def convolutional_encoder(bs):\n",
    "    bs = [1, 1] + bs\n",
    "    codewords = []\n",
    "    \n",
    "    for i in range(2, len(bs)):\n",
    "        codewords.append(bs[i]*bs[i-2])\n",
    "        codewords.append(bs[i]*bs[i-1]*bs[i-2])\n",
    "        \n",
    "    return codewords"
   ]
  },
  {
   "cell_type": "code",
   "execution_count": 19,
   "metadata": {},
   "outputs": [],
   "source": [
    "def encoder(bs, repeat):\n",
    "    codewords = convolutional_encoder(bs)\n",
    "    return np.repeat(codewords, repeat)"
   ]
  },
  {
   "cell_type": "markdown",
   "metadata": {},
   "source": [
    "### Decoder"
   ]
  },
  {
   "cell_type": "code",
   "execution_count": 51,
   "metadata": {},
   "outputs": [],
   "source": [
    "def to_dec(alpha):\n",
    "    return int(str(alpha[0])+str(alpha[1]), 2)"
   ]
  },
  {
   "cell_type": "code",
   "execution_count": 57,
   "metadata": {},
   "outputs": [],
   "source": [
    "def convolutional_decoder(ys, maxj):\n",
    "    B_matrix = [[list() for _ in range(4)] for _ in range(maxj)]\n",
    "    mu_matrix = np.ones((maxj, 2, 2)) * -np.inf\n",
    "    mu_matrix[0, 1, 1] = 0\n",
    "    \n",
    "    for j in range(1, maxj):\n",
    "        max_cost = -np.inf\n",
    "        max_beta = None\n",
    "        for alpha in [(0,0), (0,1), (1,0), (1,1)]:\n",
    "            for beta in [(0,0), (0,1), (1,0), (1,1)]:\n",
    "                edge_cost = 0 # TODO\n",
    "                subpath_cost = mu_matrix[j-1][beta]\n",
    "                cost = edge_cost + subpath_cost\n",
    "                if (cost > max_cost):\n",
    "                    max_cost = cost\n",
    "                    max_beta = beta\n",
    "            mu_matrix[j][alpha] = max_cost\n",
    "            B_matrix[j][to_dec(alpha)] = B_matrix[j-1][to_dec(max_beta)] + None # TODO\n",
    "    \n",
    "    return B_matrix[maxj][to_dec((1,1))][:k]"
   ]
  },
  {
   "cell_type": "code",
   "execution_count": 62,
   "metadata": {},
   "outputs": [],
   "source": [
    "def detect_erasure(dec_ys):\n",
    "    bins = np.sum(np.abs(dec_ys), axis=1)\n",
    "    mods = []\n",
    "    for i in range(3):\n",
    "        mods[i] = np.sum(bins[i::3])\n",
    "    return argmin(mods)"
   ]
  },
  {
   "cell_type": "code",
   "execution_count": 63,
   "metadata": {},
   "outputs": [],
   "source": [
    "def remove_erasures(ys, repeat):\n",
    "    dec_ys = [ys[i::repeat] for i in range(repeat)]\n",
    "    mod = detect_erasure(dec_ys)\n",
    "    return dec_ys[[i % 3 == mod for i in range(repeat)]]"
   ]
  },
  {
   "cell_type": "code",
   "execution_count": 64,
   "metadata": {},
   "outputs": [],
   "source": [
    "def decoder(ys, repeat):\n",
    "    yss = remove_erasures(ys, repeat)\n",
    "    dec = []\n",
    "    for ys in yss:\n",
    "        dec.append(convolutional_decoder(ys, len(ys/2) + 2))\n",
    "    # fais un systeme de vote ?\n",
    "    return dec[0]"
   ]
  },
  {
   "cell_type": "markdown",
   "metadata": {},
   "source": [
    "# Plan"
   ]
  },
  {
   "cell_type": "markdown",
   "metadata": {},
   "source": [
    "- Finir conv. decoder\n",
    "- Faire des vrais tests avec zero noise\n",
    "- Faire des vrais tests avec peu noise local\n",
    "- Faire des vrais tests avec real noise local\n",
    "- Pipeline server (easy)\n",
    "- Faire des vrais tests server\n",
    "- Se poser sur le système de votes"
   ]
  }
 ],
 "metadata": {
  "kernelspec": {
   "display_name": "Python 3",
   "language": "python",
   "name": "python3"
  },
  "language_info": {
   "codemirror_mode": {
    "name": "ipython",
    "version": 3
   },
   "file_extension": ".py",
   "mimetype": "text/x-python",
   "name": "python",
   "nbconvert_exporter": "python",
   "pygments_lexer": "ipython3",
   "version": "3.8.5"
  }
 },
 "nbformat": 4,
 "nbformat_minor": 4
}
